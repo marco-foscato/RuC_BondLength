{
 "cells": [
  {
   "cell_type": "markdown",
   "id": "48a31802-e8e9-4900-b631-c15621decc7f",
   "metadata": {},
   "source": [
    "# InChI Keys for All\n",
    "Here, I collect all molecules and calculate the InChI Key (no, He atoms), and use it to detect duplicates.\n",
    "\n",
    "First we collect all the data from all evolutionary experiments."
   ]
  },
  {
   "cell_type": "code",
   "execution_count": 1,
   "id": "89d0af98-4302-4430-a798-cc9c37d5e756",
   "metadata": {},
   "outputs": [
    {
     "name": "stdout",
     "output_type": "stream",
     "text": [
      "Total imported FIT files:       2523\n",
      "Total candidates:               2523\n",
      "Unique InChIKey:                1435\n",
      "Unique InChIKey with fitness:   1164\n"
     ]
    }
   ],
   "source": [
    "import glob\n",
    "from rdkit import Chem, DataStructs\n",
    "\n",
    "from rdkit import RDLogger  \n",
    "RDLogger.DisableLog('rdApp.*')\n",
    "\n",
    "totFitFiles=0\n",
    "allCandidates=[]\n",
    "unqCandidates=[]\n",
    "unqCandidatesWFitness=[]\n",
    "fitnesses=[]\n",
    "molNames=[]\n",
    "pathNames=[]\n",
    "unqUIDs=[]\n",
    "for fitFile in glob.glob(\"../run_*/*/*_FIT.sdf\"):\n",
    "    totFitFiles=totFitFiles+1;\n",
    "    supplier = Chem.SDMolSupplier(fitFile);\n",
    "    i=0\n",
    "    for mol in supplier:\n",
    "        i=i+1;\n",
    "        mol.SetProp('Pathname',fitFile)\n",
    "        allCandidates.append(mol)\n",
    "        inchi = Chem.inchi.MolToInchi(mol)\n",
    "        inchikey = Chem.inchi.InchiToInchiKey(inchi)\n",
    "        if inchikey == '':\n",
    "            print ('ERROR! Empty InChIKey.');\n",
    "            break;\n",
    "        if not inchikey in unqUIDs:\n",
    "            unqCandidates.append(mol)\n",
    "            unqUIDs.append(inchikey)\n",
    "            if mol.HasProp('FITNESS'):\n",
    "                unqCandidatesWFitness.append(mol)\n",
    "                fitnesses.append(float(mol.GetProp('FITNESS')))\n",
    "                molNames.append(mol.GetProp('_Name'))\n",
    "                pathNames.append(fitFile)\n",
    "    if i > 1:\n",
    "        print ('ERROR! One SDF file is expected to contain only one molecule!');\n",
    "        break;\n",
    "    \n",
    "print('Total imported FIT files:      ',totFitFiles);\n",
    "print('Total candidates:              ',len(allCandidates));\n",
    "print('Unique InChIKey:               ',len(unqCandidates));\n",
    "print('Unique InChIKey with fitness:  ',len(unqCandidatesWFitness));\n"
   ]
  }
 ],
 "metadata": {
  "kernelspec": {
   "display_name": "Ru-C_Design",
   "language": "python",
   "name": "ru-c_design"
  },
  "language_info": {
   "codemirror_mode": {
    "name": "ipython",
    "version": 3
   },
   "file_extension": ".py",
   "mimetype": "text/x-python",
   "name": "python",
   "nbconvert_exporter": "python",
   "pygments_lexer": "ipython3",
   "version": "3.7.10"
  }
 },
 "nbformat": 4,
 "nbformat_minor": 5
}
